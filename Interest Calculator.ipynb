{
 "cells": [
  {
   "cell_type": "code",
   "execution_count": 1,
   "id": "4fb26305",
   "metadata": {},
   "outputs": [],
   "source": [
    "#Interest Calculator"
   ]
  },
  {
   "cell_type": "code",
   "execution_count": 13,
   "id": "bbde0f73",
   "metadata": {},
   "outputs": [],
   "source": [
    "def interest_calc():\n",
    "    \n",
    "    newstate = True\n",
    "    calcstate = False\n",
    "    confirm = ''\n",
    "    while newstate == True:\n",
    "        \n",
    "        #Variable Placeholders#\n",
    "        prnc = principal()\n",
    "        rte = rate()\n",
    "        cpd, cpdtype = compound()\n",
    "        priod = period()\n",
    "        total = 0\n",
    "        \n",
    "        calcstate = True\n",
    "        newstate = False\n",
    "        \n",
    "        while calcstate == True:\n",
    "            print(\"\\n\" + f'Principal:[{prnc}]|Rate:[{rte}]|Type:[{cpdtype}]|Period:[{priod}]')\n",
    "            confirm = str(input('Is the following information correct? [Y/N]')).title()\n",
    "            \n",
    "            if confirm[0] == 'Y':\n",
    "                total = interest(prnc,rte,cpd,priod)\n",
    "                print(\"\\n\" + \"Your total after this interest period is: [$%10.2f]\"%(total))\n",
    "                calcstate = False\n",
    "                \n",
    "            elif confirm[0] == 'N':\n",
    "                calcstate = False\n",
    "                newstate = True\n",
    "            else:\n",
    "                print(\"Please provide a valid response\")\n",
    "                continue\n",
    "        "
   ]
  },
  {
   "cell_type": "code",
   "execution_count": 14,
   "id": "bbee4a21",
   "metadata": {},
   "outputs": [
    {
     "name": "stdout",
     "output_type": "stream",
     "text": [
      "Please provide principal ammount:5000\n",
      "Please provide rate ammount:0.05\n",
      "Please input compound type [Yearly|Monthly|Weekly|Daily]:Monthly\n",
      "Please provide the interest period:10\n",
      "\n",
      "Principal:[5000]|Rate:[0.05]|Type:[Monthly]|Period:[10]\n",
      "Is the following information correct? [Y/N]y\n",
      "\n",
      "Your total after this interest period is: [$   8235.05]\n"
     ]
    }
   ],
   "source": [
    "interest_calc()"
   ]
  },
  {
   "cell_type": "code",
   "execution_count": 1,
   "id": "80de1b29",
   "metadata": {},
   "outputs": [],
   "source": [
    "##Calculator Function##\n",
    "\n",
    "def interest(prnc,rte,cpd,priod):\n",
    "    \n",
    "    total = prnc* (1 + rte / cpd )**(cpd * priod)\n",
    "    return total"
   ]
  },
  {
   "cell_type": "code",
   "execution_count": 2,
   "id": "4be8b8c4",
   "metadata": {},
   "outputs": [],
   "source": [
    "def principal():\n",
    "    \n",
    "    #Placeholder#\n",
    "    prnc = 0\n",
    "    \n",
    "    while prnc == 0:\n",
    "        \n",
    "        try:\n",
    "            prnc = int(input(\"Please provide principal ammount:\"))\n",
    "        \n",
    "        except ValueError:\n",
    "            print('Please proper numeric ammount')\n",
    "    return prnc"
   ]
  },
  {
   "cell_type": "code",
   "execution_count": 3,
   "id": "add479eb",
   "metadata": {},
   "outputs": [],
   "source": [
    "def rate():\n",
    "    \n",
    "    #Placeholder#\n",
    "    rte = 0\n",
    "    \n",
    "    while rte == 0:\n",
    "        \n",
    "        try:\n",
    "            rte = float(input(\"Please provide rate ammount:\"))\n",
    "        \n",
    "        except ValueError:\n",
    "            print('Please proper numeric ammount')\n",
    "    \n",
    "    return rte"
   ]
  },
  {
   "cell_type": "code",
   "execution_count": 4,
   "id": "0d18bed6",
   "metadata": {},
   "outputs": [],
   "source": [
    "def compound():\n",
    "    \n",
    "    cpd = 0\n",
    "    cpdtype = ''\n",
    "    cpdtypes = ['Yearly','Monthly','Weekly','Daily']\n",
    "    \n",
    "    while cpdtype not in cpdtypes:\n",
    "        cpdtype = str(input(\"Please input compound type [Yearly|Monthly|Weekly|Daily]:\")).title()\n",
    "        \n",
    "        if cpdtype not in cpdtypes:\n",
    "            print(\"Please provide correct compound type\")\n",
    "        \n",
    "        elif cpdtype == 'Yearly':\n",
    "            cpd = 1\n",
    "        elif cpdtype == 'Monthly':\n",
    "            cpd = 12\n",
    "        elif cpdtype == 'Weekly':\n",
    "            cpd = 52\n",
    "        elif cpdtype == 'Daily':\n",
    "            cpd = 365\n",
    "        \n",
    "    return cpd, cpdtype\n",
    "            \n",
    "    "
   ]
  },
  {
   "cell_type": "code",
   "execution_count": 5,
   "id": "eda0d431",
   "metadata": {},
   "outputs": [],
   "source": [
    "def period():\n",
    "    \n",
    "    priod = 0\n",
    "    \n",
    "    while priod == 0:\n",
    "        try:\n",
    "            priod = int(input(\"Please provide the interest period:\"))\n",
    "            \n",
    "        except ValueError:\n",
    "            print('Please proper numeric ammount')\n",
    "    \n",
    "    return priod"
   ]
  },
  {
   "cell_type": "code",
   "execution_count": null,
   "id": "949ee892",
   "metadata": {},
   "outputs": [],
   "source": []
  }
 ],
 "metadata": {
  "kernelspec": {
   "display_name": "Python 3 (ipykernel)",
   "language": "python",
   "name": "python3"
  },
  "language_info": {
   "codemirror_mode": {
    "name": "ipython",
    "version": 3
   },
   "file_extension": ".py",
   "mimetype": "text/x-python",
   "name": "python",
   "nbconvert_exporter": "python",
   "pygments_lexer": "ipython3",
   "version": "3.9.7"
  }
 },
 "nbformat": 4,
 "nbformat_minor": 5
}
